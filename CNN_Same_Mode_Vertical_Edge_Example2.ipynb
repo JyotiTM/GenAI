{
  "nbformat": 4,
  "nbformat_minor": 0,
  "metadata": {
    "colab": {
      "provenance": [],
      "authorship_tag": "ABX9TyNOteE3aTBQ2wxZfFnu8Ejr",
      "include_colab_link": true
    },
    "kernelspec": {
      "name": "python3",
      "display_name": "Python 3"
    },
    "language_info": {
      "name": "python"
    }
  },
  "cells": [
    {
      "cell_type": "markdown",
      "metadata": {
        "id": "view-in-github",
        "colab_type": "text"
      },
      "source": [
        "<a href=\"https://colab.research.google.com/github/JyotiTM/GenAI/blob/main/CNN_Same_Mode_Vertical_Edge_Example2.ipynb\" target=\"_parent\"><img src=\"https://colab.research.google.com/assets/colab-badge.svg\" alt=\"Open In Colab\"/></a>"
      ]
    },
    {
      "cell_type": "code",
      "execution_count": 41,
      "metadata": {
        "id": "BwTWwGVHzpIq"
      },
      "outputs": [],
      "source": [
        "import numpy as np\n",
        "import tensorflow as tf\n",
        "import matplotlib.pyplot as plt\n",
        "from scipy.signal import correlate2d\n"
      ]
    },
    {
      "cell_type": "code",
      "source": [
        "## Sample Image"
      ],
      "metadata": {
        "id": "fkOGmYXw4TyC"
      },
      "execution_count": 2,
      "outputs": []
    },
    {
      "cell_type": "code",
      "source": [
        "image = np.array([\n",
        "    [0,0,255,255,255,255,255,0,0],\n",
        "    [0,0,255,255,255,255,255,0,0],\n",
        "    [0,0,255,255,255,255,255,0,0],\n",
        "    [0,0,255,255,255,255,255,0,0],\n",
        "    [0,0,0,0,255,255,0,0,0],\n",
        "    [0,0,0,0,255,255,0,0,0],\n",
        "    [0,0,0,0,255,255,0,0,0],\n",
        "    [0,0,0,0,255,255,0,0,0],\n",
        "    [0,0,0,0,0,0,0,0,0]\n",
        "\n",
        "\n",
        "\n",
        "\n",
        "],dtype='float32')"
      ],
      "metadata": {
        "id": "k1yHoEpV0UHi"
      },
      "execution_count": 42,
      "outputs": []
    },
    {
      "cell_type": "code",
      "source": [
        "image.shape"
      ],
      "metadata": {
        "colab": {
          "base_uri": "https://localhost:8080/"
        },
        "id": "YIPWuKn47nlC",
        "outputId": "d052b3a3-2fae-49d4-eb9b-31a7158fe62d"
      },
      "execution_count": 43,
      "outputs": [
        {
          "output_type": "execute_result",
          "data": {
            "text/plain": [
              "(9, 9)"
            ]
          },
          "metadata": {},
          "execution_count": 43
        }
      ]
    },
    {
      "cell_type": "code",
      "source": [
        "## Define a kernel/filter"
      ],
      "metadata": {
        "id": "z4G5hgZX35M-"
      },
      "execution_count": 16,
      "outputs": []
    },
    {
      "cell_type": "code",
      "source": [
        "vertical_kernel = np.array([[-1,0,1],[-1,0,1],[-1,0,1]])"
      ],
      "metadata": {
        "id": "SnUq8vNt4bc5"
      },
      "execution_count": 52,
      "outputs": []
    },
    {
      "cell_type": "code",
      "source": [
        "## now do the convolution"
      ],
      "metadata": {
        "id": "MXnn2_yX4l4p"
      },
      "execution_count": 53,
      "outputs": []
    },
    {
      "cell_type": "code",
      "source": [
        "corr_result = correlate2d(image,vertical_kernel,mode='same')"
      ],
      "metadata": {
        "id": "87_cjhTB4s1I"
      },
      "execution_count": 54,
      "outputs": []
    },
    {
      "cell_type": "code",
      "source": [
        "print(corr_result)"
      ],
      "metadata": {
        "colab": {
          "base_uri": "https://localhost:8080/"
        },
        "id": "xouoXqdW4xXn",
        "outputId": "6dda4517-1e8d-4b0d-bd5f-b70ec16583fe"
      },
      "execution_count": 55,
      "outputs": [
        {
          "output_type": "stream",
          "name": "stdout",
          "text": [
            "[[   0.  510.  510.    0.    0.    0. -510. -510.    0.]\n",
            " [   0.  765.  765.    0.    0.    0. -765. -765.    0.]\n",
            " [   0.  765.  765.    0.    0.    0. -765. -765.    0.]\n",
            " [   0.  510.  510.  255.  255. -255. -765. -510.    0.]\n",
            " [   0.  255.  255.  510.  510. -510. -765. -255.    0.]\n",
            " [   0.    0.    0.  765.  765. -765. -765.    0.    0.]\n",
            " [   0.    0.    0.  765.  765. -765. -765.    0.    0.]\n",
            " [   0.    0.    0.  510.  510. -510. -510.    0.    0.]\n",
            " [   0.    0.    0.  255.  255. -255. -255.    0.    0.]]\n"
          ]
        }
      ]
    },
    {
      "cell_type": "code",
      "source": [
        "type(corr_result)"
      ],
      "metadata": {
        "colab": {
          "base_uri": "https://localhost:8080/"
        },
        "id": "B1KRGO8S6qNi",
        "outputId": "2e4d6ebb-b2aa-43da-f84b-70aea1e39902"
      },
      "execution_count": 56,
      "outputs": [
        {
          "output_type": "execute_result",
          "data": {
            "text/plain": [
              "numpy.ndarray"
            ]
          },
          "metadata": {},
          "execution_count": 56
        }
      ]
    },
    {
      "cell_type": "code",
      "source": [
        "corr_result.shape"
      ],
      "metadata": {
        "colab": {
          "base_uri": "https://localhost:8080/"
        },
        "id": "qGTccHW-6tut",
        "outputId": "99047c22-1a7e-4318-d7e1-d7b8808483c7"
      },
      "execution_count": 57,
      "outputs": [
        {
          "output_type": "execute_result",
          "data": {
            "text/plain": [
              "(9, 9)"
            ]
          },
          "metadata": {},
          "execution_count": 57
        }
      ]
    },
    {
      "cell_type": "code",
      "source": [
        "## Visualize the result"
      ],
      "metadata": {
        "id": "6r-JrG5V42UK"
      },
      "execution_count": 58,
      "outputs": []
    },
    {
      "cell_type": "code",
      "source": [
        "fig, axs = plt.subplots(1,2,figsize=(8,4) )\n",
        "axs[0].imshow(image,cmap='gray')\n",
        "axs[0].set_title('Original Image of 7')\n",
        "axs[1].set_title('Correlation Result')\n",
        "axs[1].imshow(corr_result,cmap='gray')\n",
        "axs[1].set_title(\"Correlation Result\")\n",
        "plt.show()"
      ],
      "metadata": {
        "colab": {
          "base_uri": "https://localhost:8080/",
          "height": 364
        },
        "id": "00ebL-4f46vv",
        "outputId": "fe9ccec8-0403-4c54-8fb7-d765bab02d54"
      },
      "execution_count": 59,
      "outputs": [
        {
          "output_type": "display_data",
          "data": {
            "text/plain": [
              "<Figure size 800x400 with 2 Axes>"
            ],
            "image/png": "[encoded data removed]"
          },
          "metadata": {}
        }
      ]
    },
    {
      "cell_type": "code",
      "source": [],
      "metadata": {
        "id": "Qz3dC6_D5zm9"
      },
      "execution_count": 12,
      "outputs": []
    }
  ]
}