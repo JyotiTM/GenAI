{
  "nbformat": 4,
  "nbformat_minor": 0,
  "metadata": {
    "colab": {
      "provenance": []
    },
    "kernelspec": {
      "name": "python3",
      "display_name": "Python 3"
    },
    "language_info": {
      "name": "python"
    }
  },
  "cells": [
    {
      "cell_type": "code",
      "execution_count": 1,
      "metadata": {
        "id": "Uqo-elvvnJKj"
      },
      "outputs": [],
      "source": [
        "import numpy as np"
      ]
    },
    {
      "cell_type": "code",
      "source": [
        "## With 1D array"
      ],
      "metadata": {
        "id": "xeEo5HoMpybr"
      },
      "execution_count": 13,
      "outputs": []
    },
    {
      "cell_type": "code",
      "source": [
        "data = np.array([10,20,30,40,50,1000]) #outlier in data"
      ],
      "metadata": {
        "id": "slgzi0OEohhn"
      },
      "execution_count": 3,
      "outputs": []
    },
    {
      "cell_type": "code",
      "source": [
        "def min_max_normalization(data):\n",
        "  min_val = np.min(data)\n",
        "  max_val = np.max(data)\n",
        "  normalized_data = (data - min_val) / (max_val - min_val)\n",
        "  return normalized_data"
      ],
      "metadata": {
        "id": "KfGbUIgrom3y"
      },
      "execution_count": 4,
      "outputs": []
    },
    {
      "cell_type": "code",
      "source": [
        "def standardized_normalization(data):\n",
        "  mean = np.mean(data)\n",
        "  std = np.std(data)\n",
        "  normalized_data = (data - mean)/std\n",
        "  return normalized_data"
      ],
      "metadata": {
        "id": "m2bqzFyxo36o"
      },
      "execution_count": 6,
      "outputs": []
    },
    {
      "cell_type": "code",
      "source": [
        "## Applying min_max_normalization"
      ],
      "metadata": {
        "id": "s04nuKm8pKdK"
      },
      "execution_count": 7,
      "outputs": []
    },
    {
      "cell_type": "code",
      "source": [
        "data_norm1 = min_max_normalization(data)"
      ],
      "metadata": {
        "id": "RUcgf_IFpQnj"
      },
      "execution_count": 8,
      "outputs": []
    },
    {
      "cell_type": "code",
      "source": [
        "data_norm1"
      ],
      "metadata": {
        "colab": {
          "base_uri": "https://localhost:8080/"
        },
        "id": "aX99_ExspT0w",
        "outputId": "bbeefcec-0031-4ae3-de54-8a62d12281af"
      },
      "execution_count": 9,
      "outputs": [
        {
          "output_type": "execute_result",
          "data": {
            "text/plain": [
              "array([0.        , 0.01010101, 0.02020202, 0.03030303, 0.04040404,\n",
              "       1.        ])"
            ]
          },
          "metadata": {},
          "execution_count": 9
        }
      ]
    },
    {
      "cell_type": "code",
      "source": [
        "## Applying standardized normalization"
      ],
      "metadata": {
        "id": "HT1Sqdf_pUlI"
      },
      "execution_count": 10,
      "outputs": []
    },
    {
      "cell_type": "code",
      "source": [
        "data_norm2 = standardized_normalization(data)"
      ],
      "metadata": {
        "id": "m7MAMcRZpofy"
      },
      "execution_count": 11,
      "outputs": []
    },
    {
      "cell_type": "code",
      "source": [
        "data_norm2"
      ],
      "metadata": {
        "colab": {
          "base_uri": "https://localhost:8080/"
        },
        "id": "sOSRI6bYpqTf",
        "outputId": "96c6e456-b3fb-4f3b-8e5f-b765da6f0a69"
      },
      "execution_count": 12,
      "outputs": [
        {
          "output_type": "execute_result",
          "data": {
            "text/plain": [
              "array([-0.50221883, -0.47457376, -0.44692869, -0.41928361, -0.39163854,\n",
              "        2.23464343])"
            ]
          },
          "metadata": {},
          "execution_count": 12
        }
      ]
    },
    {
      "cell_type": "code",
      "source": [
        "## With 2D array - here using the minimum and maximum across all the columns and then normalizing it"
      ],
      "metadata": {
        "id": "VIbT4NpGpq8_"
      },
      "execution_count": 22,
      "outputs": []
    },
    {
      "cell_type": "code",
      "source": [
        "data2 = np.array([[1,2,3],[4,5,6],[7,8,100]])"
      ],
      "metadata": {
        "id": "mPzKwTrIp1_P"
      },
      "execution_count": 15,
      "outputs": []
    },
    {
      "cell_type": "code",
      "source": [
        "data2"
      ],
      "metadata": {
        "colab": {
          "base_uri": "https://localhost:8080/"
        },
        "id": "PGo8cb75qaHu",
        "outputId": "1a244453-8b59-43fc-e86d-b1249d6d5552"
      },
      "execution_count": 16,
      "outputs": [
        {
          "output_type": "execute_result",
          "data": {
            "text/plain": [
              "array([[  1,   2,   3],\n",
              "       [  4,   5,   6],\n",
              "       [  7,   8, 100]])"
            ]
          },
          "metadata": {},
          "execution_count": 16
        }
      ]
    },
    {
      "cell_type": "code",
      "source": [
        "data2_norm1 = min_max_normalization(data2)"
      ],
      "metadata": {
        "id": "kLUIe_YfqapO"
      },
      "execution_count": 17,
      "outputs": []
    },
    {
      "cell_type": "code",
      "source": [
        "data2_norm1"
      ],
      "metadata": {
        "colab": {
          "base_uri": "https://localhost:8080/"
        },
        "id": "WuPUWPw9qdWm",
        "outputId": "7c32012f-7463-4013-8ecd-4db83cb54929"
      },
      "execution_count": 18,
      "outputs": [
        {
          "output_type": "execute_result",
          "data": {
            "text/plain": [
              "array([[0.        , 0.01010101, 0.02020202],\n",
              "       [0.03030303, 0.04040404, 0.05050505],\n",
              "       [0.06060606, 0.07070707, 1.        ]])"
            ]
          },
          "metadata": {},
          "execution_count": 18
        }
      ]
    },
    {
      "cell_type": "code",
      "source": [
        "data2_norm2 = standardized_normalization(data2)"
      ],
      "metadata": {
        "id": "LJd3UIjiqflF"
      },
      "execution_count": 19,
      "outputs": []
    },
    {
      "cell_type": "code",
      "source": [
        "data2_norm2"
      ],
      "metadata": {
        "colab": {
          "base_uri": "https://localhost:8080/"
        },
        "id": "rgWa4EbtqnH9",
        "outputId": "8a1d6c09-5eb4-4001-ab93-02d5e4bce077"
      },
      "execution_count": 20,
      "outputs": [
        {
          "output_type": "execute_result",
          "data": {
            "text/plain": [
              "array([[-0.46895726, -0.43572407, -0.40249088],\n",
              "       [-0.36925769, -0.3360245 , -0.3027913 ],\n",
              "       [-0.26955811, -0.23632492,  2.82112874]])"
            ]
          },
          "metadata": {},
          "execution_count": 20
        }
      ]
    },
    {
      "cell_type": "code",
      "source": [
        "## ML way - where we are supposed to take across individual column and then normalizing the values"
      ],
      "metadata": {
        "id": "b5nYHVqOqoH9"
      },
      "execution_count": 23,
      "outputs": []
    },
    {
      "cell_type": "code",
      "source": [
        "data2"
      ],
      "metadata": {
        "colab": {
          "base_uri": "https://localhost:8080/"
        },
        "id": "xd_h3YNksLp8",
        "outputId": "06093bd8-653a-4b6d-fa8f-01084713d015"
      },
      "execution_count": 24,
      "outputs": [
        {
          "output_type": "execute_result",
          "data": {
            "text/plain": [
              "array([[  1,   2,   3],\n",
              "       [  4,   5,   6],\n",
              "       [  7,   8, 100]])"
            ]
          },
          "metadata": {},
          "execution_count": 24
        }
      ]
    },
    {
      "cell_type": "code",
      "source": [
        "min_col = np.min(data2, axis=0) # each column independently"
      ],
      "metadata": {
        "id": "HUjOSiSZsMoi"
      },
      "execution_count": 29,
      "outputs": []
    },
    {
      "cell_type": "code",
      "source": [
        "min_col"
      ],
      "metadata": {
        "colab": {
          "base_uri": "https://localhost:8080/"
        },
        "id": "g8nA4oSLsacy",
        "outputId": "eb8f0001-1725-45ee-b8d2-0ce854569ffb"
      },
      "execution_count": 26,
      "outputs": [
        {
          "output_type": "execute_result",
          "data": {
            "text/plain": [
              "array([1, 2, 3])"
            ]
          },
          "metadata": {},
          "execution_count": 26
        }
      ]
    },
    {
      "cell_type": "code",
      "source": [
        "max_col = np.max(data2, axis=0) # each column independently"
      ],
      "metadata": {
        "id": "TsY_FqnWsbG6"
      },
      "execution_count": 30,
      "outputs": []
    },
    {
      "cell_type": "code",
      "source": [
        "max_col"
      ],
      "metadata": {
        "colab": {
          "base_uri": "https://localhost:8080/"
        },
        "id": "uTL_Kqkgseda",
        "outputId": "fb23f36a-7af1-440e-c1ee-0c7f43656e3e"
      },
      "execution_count": 28,
      "outputs": [
        {
          "output_type": "execute_result",
          "data": {
            "text/plain": [
              "array([  7,   8, 100])"
            ]
          },
          "metadata": {},
          "execution_count": 28
        }
      ]
    },
    {
      "cell_type": "code",
      "source": [
        "min_max_norm = (data2 - min_col)/(max_col - min_col)"
      ],
      "metadata": {
        "id": "3UKSFBMxsfOh"
      },
      "execution_count": 31,
      "outputs": []
    },
    {
      "cell_type": "code",
      "source": [
        "min_max_norm"
      ],
      "metadata": {
        "colab": {
          "base_uri": "https://localhost:8080/"
        },
        "id": "VnyIRCUmsuRx",
        "outputId": "e7fc5b6c-647b-4e44-b1a2-7a5964e6de1e"
      },
      "execution_count": 32,
      "outputs": [
        {
          "output_type": "execute_result",
          "data": {
            "text/plain": [
              "array([[0.        , 0.        , 0.        ],\n",
              "       [0.5       , 0.5       , 0.03092784],\n",
              "       [1.        , 1.        , 1.        ]])"
            ]
          },
          "metadata": {},
          "execution_count": 32
        }
      ]
    },
    {
      "cell_type": "code",
      "source": [
        "data2-min_col"
      ],
      "metadata": {
        "colab": {
          "base_uri": "https://localhost:8080/"
        },
        "id": "XaOMjfoJsvl7",
        "outputId": "e6b70f99-2812-43af-8f7f-c6ba2878c3ca"
      },
      "execution_count": 33,
      "outputs": [
        {
          "output_type": "execute_result",
          "data": {
            "text/plain": [
              "array([[ 0,  0,  0],\n",
              "       [ 3,  3,  3],\n",
              "       [ 6,  6, 97]])"
            ]
          },
          "metadata": {},
          "execution_count": 33
        }
      ]
    },
    {
      "cell_type": "code",
      "source": [
        "np_mean = np.mean(data2, axis=0)"
      ],
      "metadata": {
        "id": "n_kttHRCsyMJ"
      },
      "execution_count": 34,
      "outputs": []
    },
    {
      "cell_type": "code",
      "source": [
        "np_mean"
      ],
      "metadata": {
        "colab": {
          "base_uri": "https://localhost:8080/"
        },
        "id": "SEEsW2Hytdew",
        "outputId": "1f37d6aa-9fd1-4e9a-e745-107e9a56f313"
      },
      "execution_count": 35,
      "outputs": [
        {
          "output_type": "execute_result",
          "data": {
            "text/plain": [
              "array([ 4.        ,  5.        , 36.33333333])"
            ]
          },
          "metadata": {},
          "execution_count": 35
        }
      ]
    },
    {
      "cell_type": "code",
      "source": [
        "np_std = np.std(data2, axis =1 )"
      ],
      "metadata": {
        "id": "TB9ncUhJteK4"
      },
      "execution_count": 36,
      "outputs": []
    },
    {
      "cell_type": "code",
      "source": [
        "np_std"
      ],
      "metadata": {
        "colab": {
          "base_uri": "https://localhost:8080/"
        },
        "id": "zqSOQxQQth5_",
        "outputId": "afbf5bb9-1b82-40f2-ac8c-9da56e1d4352"
      },
      "execution_count": 37,
      "outputs": [
        {
          "output_type": "execute_result",
          "data": {
            "text/plain": [
              "array([ 0.81649658,  0.81649658, 43.60682923])"
            ]
          },
          "metadata": {},
          "execution_count": 37
        }
      ]
    },
    {
      "cell_type": "code",
      "source": [
        "data2_norm3 = (data2 - np_mean)/np_std"
      ],
      "metadata": {
        "id": "qicDLoR6tivH"
      },
      "execution_count": 38,
      "outputs": []
    },
    {
      "cell_type": "code",
      "source": [
        "data2_norm3"
      ],
      "metadata": {
        "colab": {
          "base_uri": "https://localhost:8080/"
        },
        "id": "CmKbj8Ldtm7X",
        "outputId": "359fe063-a475-4757-df7c-2b1b4be0820c"
      },
      "execution_count": 39,
      "outputs": [
        {
          "output_type": "execute_result",
          "data": {
            "text/plain": [
              "array([[-3.67423461, -3.67423461, -0.76440626],\n",
              "       [ 0.        ,  0.        , -0.6956097 ],\n",
              "       [ 3.67423461,  3.67423461,  1.46001596]])"
            ]
          },
          "metadata": {},
          "execution_count": 39
        }
      ]
    },
    {
      "cell_type": "code",
      "source": [],
      "metadata": {
        "id": "1mPtaXZBtsF_"
      },
      "execution_count": null,
      "outputs": []
    }
  ]
}