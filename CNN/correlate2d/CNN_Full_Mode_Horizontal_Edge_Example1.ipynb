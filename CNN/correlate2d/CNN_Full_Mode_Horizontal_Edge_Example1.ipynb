{
  "nbformat": 4,
  "nbformat_minor": 0,
  "metadata": {
    "colab": {
      "provenance": []
    },
    "kernelspec": {
      "name": "python3",
      "display_name": "Python 3"
    },
    "language_info": {
      "name": "python"
    }
  },
  "cells": [
    {
      "cell_type": "code",
      "execution_count": 113,
      "metadata": {
        "id": "BwTWwGVHzpIq"
      },
      "outputs": [],
      "source": [
        "import numpy as np\n",
        "import tensorflow as tf\n",
        "import matplotlib.pyplot as plt\n",
        "from scipy.signal import correlate2d\n"
      ]
    },
    {
      "cell_type": "code",
      "source": [
        "## Sample Image"
      ],
      "metadata": {
        "id": "fkOGmYXw4TyC"
      },
      "execution_count": 114,
      "outputs": []
    },
    {
      "cell_type": "code",
      "source": [
        "image = np.array([\n",
        "    [0,0,255,255,255,255,255,0,0],\n",
        "    [0,0,0,0,255,255,0,0,0],\n",
        "    [0,0,0,0,255,255,0,0,0],\n",
        "    [0,0,0,0,255,255,0,0,0],\n",
        "    [0,0,0,0,255,255,0,0,0],\n",
        "    [0,0,0,0,255,255,0,0,0],\n",
        "    [0,0,0,0,255,255,0,0,0],\n",
        "    [0,0,0,0,255,255,0,0,0],\n",
        "    [0,0,0,0,0,0,0,0,0]\n",
        "\n",
        "\n",
        "],dtype='float32')"
      ],
      "metadata": {
        "id": "k1yHoEpV0UHi"
      },
      "execution_count": 126,
      "outputs": []
    },
    {
      "cell_type": "code",
      "source": [
        "\n",
        "\n",
        "\n",
        "\n",
        "image.shape"
      ],
      "metadata": {
        "colab": {
          "base_uri": "https://localhost:8080/"
        },
        "id": "YIPWuKn47nlC",
        "outputId": "6fb545bb-8220-44ea-a568-1b6fbce2d149"
      },
      "execution_count": 127,
      "outputs": [
        {
          "output_type": "execute_result",
          "data": {
            "text/plain": [
              "(9, 9)"
            ]
          },
          "metadata": {},
          "execution_count": 127
        }
      ]
    },
    {
      "cell_type": "code",
      "source": [
        "## Define a kernel/filter"
      ],
      "metadata": {
        "id": "z4G5hgZX35M-"
      },
      "execution_count": 128,
      "outputs": []
    },
    {
      "cell_type": "code",
      "source": [
        "horizontal_kernel = np.array([[-1,-1,-1],[0,0,0],[1,1,1]])"
      ],
      "metadata": {
        "id": "SnUq8vNt4bc5"
      },
      "execution_count": 129,
      "outputs": []
    },
    {
      "cell_type": "code",
      "source": [
        "## now do the convolution"
      ],
      "metadata": {
        "id": "MXnn2_yX4l4p"
      },
      "execution_count": 119,
      "outputs": []
    },
    {
      "cell_type": "code",
      "source": [
        "corr_result = correlate2d(image,horizontal_kernel,mode='full')"
      ],
      "metadata": {
        "id": "87_cjhTB4s1I"
      },
      "execution_count": 130,
      "outputs": []
    },
    {
      "cell_type": "code",
      "source": [
        "print(corr_result)"
      ],
      "metadata": {
        "colab": {
          "base_uri": "https://localhost:8080/"
        },
        "id": "xouoXqdW4xXn",
        "outputId": "a575f69d-a739-44cc-eea8-2a90557eba0e"
      },
      "execution_count": 131,
      "outputs": [
        {
          "output_type": "stream",
          "name": "stdout",
          "text": [
            "[[   0.    0.  255.  510.  765.  765.  765.  510.  255.    0.    0.]\n",
            " [   0.    0.    0.    0.  255.  510.  510.  255.    0.    0.    0.]\n",
            " [   0.    0. -255. -510. -510. -255. -255. -255. -255.    0.    0.]\n",
            " [   0.    0.    0.    0.    0.    0.    0.    0.    0.    0.    0.]\n",
            " [   0.    0.    0.    0.    0.    0.    0.    0.    0.    0.    0.]\n",
            " [   0.    0.    0.    0.    0.    0.    0.    0.    0.    0.    0.]\n",
            " [   0.    0.    0.    0.    0.    0.    0.    0.    0.    0.    0.]\n",
            " [   0.    0.    0.    0.    0.    0.    0.    0.    0.    0.    0.]\n",
            " [   0.    0.    0.    0. -255. -510. -510. -255.    0.    0.    0.]\n",
            " [   0.    0.    0.    0. -255. -510. -510. -255.    0.    0.    0.]\n",
            " [   0.    0.    0.    0.    0.    0.    0.    0.    0.    0.    0.]]\n"
          ]
        }
      ]
    },
    {
      "cell_type": "code",
      "source": [
        "type(corr_result)"
      ],
      "metadata": {
        "colab": {
          "base_uri": "https://localhost:8080/"
        },
        "id": "B1KRGO8S6qNi",
        "outputId": "58a53cfc-cb54-448a-a764-9adb14c1f4d0"
      },
      "execution_count": 132,
      "outputs": [
        {
          "output_type": "execute_result",
          "data": {
            "text/plain": [
              "numpy.ndarray"
            ]
          },
          "metadata": {},
          "execution_count": 132
        }
      ]
    },
    {
      "cell_type": "code",
      "source": [
        "corr_result.shape"
      ],
      "metadata": {
        "colab": {
          "base_uri": "https://localhost:8080/"
        },
        "id": "qGTccHW-6tut",
        "outputId": "1612160d-7d4d-4f55-96d5-976c0d09a9b0"
      },
      "execution_count": 133,
      "outputs": [
        {
          "output_type": "execute_result",
          "data": {
            "text/plain": [
              "(11, 11)"
            ]
          },
          "metadata": {},
          "execution_count": 133
        }
      ]
    },
    {
      "cell_type": "code",
      "source": [
        "## Visualize the result"
      ],
      "metadata": {
        "id": "6r-JrG5V42UK"
      },
      "execution_count": 134,
      "outputs": []
    },
    {
      "cell_type": "code",
      "source": [
        "fig, axs = plt.subplots(1,2,figsize=(8,4) )\n",
        "axs[0].imshow(image,cmap='gray')\n",
        "axs[0].set_title('Original Image of 7')\n",
        "axs[1].set_title('Correlation Result')\n",
        "axs[1].imshow(corr_result,cmap='gray')\n",
        "axs[1].set_title(\"Correlation Result\")\n",
        "plt.show()"
      ],
      "metadata": {
        "colab": {
          "base_uri": "https://localhost:8080/",
          "height": 364
        },
        "id": "00ebL-4f46vv",
        "outputId": "6e4f340c-5f1b-4caf-80d5-64bb64973084"
      },
      "execution_count": 135,
      "outputs": [
        {
          "output_type": "display_data",
          "data": {
            "text/plain": [
              "<Figure size 800x400 with 2 Axes>"
            ],
            "image/png": "[encoded data removed]"
          },
          "metadata": {}
        }
      ]
    },
    {
      "cell_type": "code",
      "source": [],
      "metadata": {
        "id": "Qz3dC6_D5zm9"
      },
      "execution_count": null,
      "outputs": []
    }
  ]
}