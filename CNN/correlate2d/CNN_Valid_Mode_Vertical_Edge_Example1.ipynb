{
  "nbformat": 4,
  "nbformat_minor": 0,
  "metadata": {
    "colab": {
      "provenance": [],
      "authorship_tag": "ABX9TyMDtK0QFRoLf6FKQ7UIK4kO"
    },
    "kernelspec": {
      "name": "python3",
      "display_name": "Python 3"
    },
    "language_info": {
      "name": "python"
    }
  },
  "cells": [
    {
      "cell_type": "code",
      "execution_count": 41,
      "metadata": {
        "id": "BwTWwGVHzpIq"
      },
      "outputs": [],
      "source": [
        "import numpy as np\n",
        "import tensorflow as tf\n",
        "import matplotlib.pyplot as plt\n",
        "from scipy.signal import correlate2d\n"
      ]
    },
    {
      "cell_type": "code",
      "source": [
        "## Sample Image"
      ],
      "metadata": {
        "id": "fkOGmYXw4TyC"
      },
      "execution_count": 2,
      "outputs": []
    },
    {
      "cell_type": "code",
      "source": [
        "image = np.array([\n",
        "    [0,0,255,255,255,255,255,0,0],\n",
        "    [0,0,0,0,255,255,0,0,0],\n",
        "    [0,0,0,0,255,255,0,0,0],\n",
        "    [0,0,0,0,255,255,0,0,0],\n",
        "    [0,0,0,0,255,255,0,0,0],\n",
        "    [0,0,0,0,255,255,0,0,0],\n",
        "    [0,0,0,0,255,255,0,0,0],\n",
        "    [0,0,0,0,255,255,0,0,0],\n",
        "    [0,0,0,0,0,0,0,0,0]\n",
        "\n",
        "\n",
        "],dtype='float32')"
      ],
      "metadata": {
        "id": "k1yHoEpV0UHi"
      },
      "execution_count": 102,
      "outputs": []
    },
    {
      "cell_type": "code",
      "source": [
        "\n",
        "\n",
        "\n",
        "\n",
        "image.shape"
      ],
      "metadata": {
        "colab": {
          "base_uri": "https://localhost:8080/"
        },
        "id": "YIPWuKn47nlC",
        "outputId": "4a661269-ba7a-427b-fbc7-4f3c3c767c56"
      },
      "execution_count": 103,
      "outputs": [
        {
          "output_type": "execute_result",
          "data": {
            "text/plain": [
              "(9, 9)"
            ]
          },
          "metadata": {},
          "execution_count": 103
        }
      ]
    },
    {
      "cell_type": "code",
      "source": [
        "## Define a kernel/filter"
      ],
      "metadata": {
        "id": "z4G5hgZX35M-"
      },
      "execution_count": 104,
      "outputs": []
    },
    {
      "cell_type": "code",
      "source": [
        "vertical_kernel = np.array([[-1,0,1],[-1,0,1],[-1,0,1]])"
      ],
      "metadata": {
        "id": "SnUq8vNt4bc5"
      },
      "execution_count": 105,
      "outputs": []
    },
    {
      "cell_type": "code",
      "source": [
        "## now do the convolution"
      ],
      "metadata": {
        "id": "MXnn2_yX4l4p"
      },
      "execution_count": 106,
      "outputs": []
    },
    {
      "cell_type": "code",
      "source": [
        "corr_result = correlate2d(image,vertical_kernel,mode='valid')"
      ],
      "metadata": {
        "id": "87_cjhTB4s1I"
      },
      "execution_count": 107,
      "outputs": []
    },
    {
      "cell_type": "code",
      "source": [
        "print(corr_result)"
      ],
      "metadata": {
        "colab": {
          "base_uri": "https://localhost:8080/"
        },
        "id": "xouoXqdW4xXn",
        "outputId": "ca85320f-9ede-4bdc-ba0a-4956d8886b95"
      },
      "execution_count": 108,
      "outputs": [
        {
          "output_type": "stream",
          "name": "stdout",
          "text": [
            "[[ 255.  255.  510.  510. -510. -765. -255.]\n",
            " [   0.    0.  765.  765. -765. -765.    0.]\n",
            " [   0.    0.  765.  765. -765. -765.    0.]\n",
            " [   0.    0.  765.  765. -765. -765.    0.]\n",
            " [   0.    0.  765.  765. -765. -765.    0.]\n",
            " [   0.    0.  765.  765. -765. -765.    0.]\n",
            " [   0.    0.  510.  510. -510. -510.    0.]]\n"
          ]
        }
      ]
    },
    {
      "cell_type": "code",
      "source": [
        "type(corr_result)"
      ],
      "metadata": {
        "colab": {
          "base_uri": "https://localhost:8080/"
        },
        "id": "B1KRGO8S6qNi",
        "outputId": "e23062c3-5372-4c29-b8d3-fb5faa6df8af"
      },
      "execution_count": 109,
      "outputs": [
        {
          "output_type": "execute_result",
          "data": {
            "text/plain": [
              "numpy.ndarray"
            ]
          },
          "metadata": {},
          "execution_count": 109
        }
      ]
    },
    {
      "cell_type": "code",
      "source": [
        "corr_result.shape"
      ],
      "metadata": {
        "colab": {
          "base_uri": "https://localhost:8080/"
        },
        "id": "qGTccHW-6tut",
        "outputId": "9509a16c-6478-45d6-a124-d84af9dddf00"
      },
      "execution_count": 110,
      "outputs": [
        {
          "output_type": "execute_result",
          "data": {
            "text/plain": [
              "(7, 7)"
            ]
          },
          "metadata": {},
          "execution_count": 110
        }
      ]
    },
    {
      "cell_type": "code",
      "source": [
        "## Visualize the result"
      ],
      "metadata": {
        "id": "6r-JrG5V42UK"
      },
      "execution_count": 111,
      "outputs": []
    },
    {
      "cell_type": "code",
      "source": [
        "fig, axs = plt.subplots(1,2,figsize=(8,4) )\n",
        "axs[0].imshow(image,cmap='gray')\n",
        "axs[0].set_title('Original Image of 7')\n",
        "axs[1].set_title('Correlation Result')\n",
        "axs[1].imshow(corr_result,cmap='gray')\n",
        "axs[1].set_title(\"Correlation Result\")\n",
        "plt.show()"
      ],
      "metadata": {
        "colab": {
          "base_uri": "https://localhost:8080/",
          "height": 364
        },
        "id": "00ebL-4f46vv",
        "outputId": "6d336c0d-bf16-4ff4-e10e-5208c1ff5add"
      },
      "execution_count": 112,
      "outputs": [
        {
          "output_type": "display_data",
          "data": {
            "text/plain": [
              "<Figure size 800x400 with 2 Axes>"
            ],
            "image/png": "[encoded data removed]"
          },
          "metadata": {}
        }
      ]
    },
    {
      "cell_type": "code",
      "source": [],
      "metadata": {
        "id": "Qz3dC6_D5zm9"
      },
      "execution_count": 12,
      "outputs": []
    }
  ]
}