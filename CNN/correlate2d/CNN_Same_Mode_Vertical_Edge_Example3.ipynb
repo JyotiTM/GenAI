{
  "nbformat": 4,
  "nbformat_minor": 0,
  "metadata": {
    "colab": {
      "provenance": [],
      "authorship_tag": "ABX9TyPXdA5+euLs9UTgi0o3vWrs"
    },
    "kernelspec": {
      "name": "python3",
      "display_name": "Python 3"
    },
    "language_info": {
      "name": "python"
    }
  },
  "cells": [
    {
      "cell_type": "code",
      "execution_count": 41,
      "metadata": {
        "id": "BwTWwGVHzpIq"
      },
      "outputs": [],
      "source": [
        "import numpy as np\n",
        "import tensorflow as tf\n",
        "import matplotlib.pyplot as plt\n",
        "from scipy.signal import correlate2d\n"
      ]
    },
    {
      "cell_type": "code",
      "source": [
        "## Sample Image"
      ],
      "metadata": {
        "id": "fkOGmYXw4TyC"
      },
      "execution_count": 2,
      "outputs": []
    },
    {
      "cell_type": "code",
      "source": [
        "image = np.array([\n",
        "    [0,0,255,255,255,255,255,0,0],\n",
        "    [0,0,255,255,255,255,255,0,0],\n",
        "    [0,0,255,255,255,255,255,0,0],\n",
        "    [0,0,255,255,255,255,255,0,0],\n",
        "    [0,0,255,255,255,255,255,0,0],\n",
        "    [0,0,255,255,255,255,255,0,0],\n",
        "    [0,0,255,255,255,255,255,0,0],\n",
        "    [0,0,255,255,255,255,255,0,0],\n",
        "    [0,0,255,255,255,255,255,0,0]\n",
        "\n",
        "\n",
        "\n",
        "\n",
        "],dtype='float32')"
      ],
      "metadata": {
        "id": "k1yHoEpV0UHi"
      },
      "execution_count": 60,
      "outputs": []
    },
    {
      "cell_type": "code",
      "source": [
        "image.shape"
      ],
      "metadata": {
        "colab": {
          "base_uri": "https://localhost:8080/"
        },
        "id": "YIPWuKn47nlC",
        "outputId": "9145d8b1-87b6-4106-bf0c-3601400ef2fc"
      },
      "execution_count": 61,
      "outputs": [
        {
          "output_type": "execute_result",
          "data": {
            "text/plain": [
              "(9, 9)"
            ]
          },
          "metadata": {},
          "execution_count": 61
        }
      ]
    },
    {
      "cell_type": "code",
      "source": [
        "## Define a kernel/filter"
      ],
      "metadata": {
        "id": "z4G5hgZX35M-"
      },
      "execution_count": 62,
      "outputs": []
    },
    {
      "cell_type": "code",
      "source": [
        "vertical_kernel = np.array([[-1,0,1],[-1,0,1],[-1,0,1]])"
      ],
      "metadata": {
        "id": "SnUq8vNt4bc5"
      },
      "execution_count": 63,
      "outputs": []
    },
    {
      "cell_type": "code",
      "source": [
        "## now do the convolution"
      ],
      "metadata": {
        "id": "MXnn2_yX4l4p"
      },
      "execution_count": 64,
      "outputs": []
    },
    {
      "cell_type": "code",
      "source": [
        "corr_result = correlate2d(image,vertical_kernel,mode='same')"
      ],
      "metadata": {
        "id": "87_cjhTB4s1I"
      },
      "execution_count": 65,
      "outputs": []
    },
    {
      "cell_type": "code",
      "source": [
        "print(corr_result)"
      ],
      "metadata": {
        "colab": {
          "base_uri": "https://localhost:8080/"
        },
        "id": "xouoXqdW4xXn",
        "outputId": "abb6174a-88b8-4db5-9897-58b057f9c94d"
      },
      "execution_count": 66,
      "outputs": [
        {
          "output_type": "stream",
          "name": "stdout",
          "text": [
            "[[   0.  510.  510.    0.    0.    0. -510. -510.    0.]\n",
            " [   0.  765.  765.    0.    0.    0. -765. -765.    0.]\n",
            " [   0.  765.  765.    0.    0.    0. -765. -765.    0.]\n",
            " [   0.  765.  765.    0.    0.    0. -765. -765.    0.]\n",
            " [   0.  765.  765.    0.    0.    0. -765. -765.    0.]\n",
            " [   0.  765.  765.    0.    0.    0. -765. -765.    0.]\n",
            " [   0.  765.  765.    0.    0.    0. -765. -765.    0.]\n",
            " [   0.  765.  765.    0.    0.    0. -765. -765.    0.]\n",
            " [   0.  510.  510.    0.    0.    0. -510. -510.    0.]]\n"
          ]
        }
      ]
    },
    {
      "cell_type": "code",
      "source": [
        "type(corr_result)"
      ],
      "metadata": {
        "colab": {
          "base_uri": "https://localhost:8080/"
        },
        "id": "B1KRGO8S6qNi",
        "outputId": "ad4cb633-ede4-489e-95f6-f90960c3902e"
      },
      "execution_count": 67,
      "outputs": [
        {
          "output_type": "execute_result",
          "data": {
            "text/plain": [
              "numpy.ndarray"
            ]
          },
          "metadata": {},
          "execution_count": 67
        }
      ]
    },
    {
      "cell_type": "code",
      "source": [
        "corr_result.shape"
      ],
      "metadata": {
        "colab": {
          "base_uri": "https://localhost:8080/"
        },
        "id": "qGTccHW-6tut",
        "outputId": "f9ef9a59-c44f-4d62-cf7c-ae3a3d3135a4"
      },
      "execution_count": 68,
      "outputs": [
        {
          "output_type": "execute_result",
          "data": {
            "text/plain": [
              "(9, 9)"
            ]
          },
          "metadata": {},
          "execution_count": 68
        }
      ]
    },
    {
      "cell_type": "code",
      "source": [
        "## Visualize the result"
      ],
      "metadata": {
        "id": "6r-JrG5V42UK"
      },
      "execution_count": 69,
      "outputs": []
    },
    {
      "cell_type": "code",
      "source": [
        "fig, axs = plt.subplots(1,2,figsize=(8,4) )\n",
        "axs[0].imshow(image,cmap='gray')\n",
        "axs[0].set_title('Original Image of 7')\n",
        "axs[1].set_title('Correlation Result')\n",
        "axs[1].imshow(corr_result,cmap='gray')\n",
        "axs[1].set_title(\"Correlation Result\")\n",
        "plt.show()"
      ],
      "metadata": {
        "colab": {
          "base_uri": "https://localhost:8080/",
          "height": 364
        },
        "id": "00ebL-4f46vv",
        "outputId": "b53cac06-bffd-4dc6-e79b-7b92f7021234"
      },
      "execution_count": 70,
      "outputs": [
        {
          "output_type": "display_data",
          "data": {
            "text/plain": [
              "<Figure size 800x400 with 2 Axes>"
            ],
            "image/png": "[encoded data removed]"
          },
          "metadata": {}
        }
      ]
    },
    {
      "cell_type": "code",
      "source": [],
      "metadata": {
        "id": "Qz3dC6_D5zm9"
      },
      "execution_count": 12,
      "outputs": []
    }
  ]
}