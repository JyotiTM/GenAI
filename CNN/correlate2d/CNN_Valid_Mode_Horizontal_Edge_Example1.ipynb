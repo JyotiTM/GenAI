{
  "nbformat": 4,
  "nbformat_minor": 0,
  "metadata": {
    "colab": {
      "provenance": []
    },
    "kernelspec": {
      "name": "python3",
      "display_name": "Python 3"
    },
    "language_info": {
      "name": "python"
    }
  },
  "cells": [
    {
      "cell_type": "code",
      "execution_count": 175,
      "metadata": {
        "id": "BwTWwGVHzpIq"
      },
      "outputs": [],
      "source": [
        "import numpy as np\n",
        "import tensorflow as tf\n",
        "import matplotlib.pyplot as plt\n",
        "from scipy.signal import correlate2d\n"
      ]
    },
    {
      "cell_type": "code",
      "source": [
        "## Sample Image"
      ],
      "metadata": {
        "id": "fkOGmYXw4TyC"
      },
      "execution_count": 176,
      "outputs": []
    },
    {
      "cell_type": "code",
      "source": [
        "image = np.array([\n",
        "    [0,0,255,255,255,255,255,0,0],\n",
        "    [0,0,0,0,255,255,0,0,0],\n",
        "    [0,0,0,0,255,255,0,0,0],\n",
        "    [0,0,0,0,255,255,0,0,0],\n",
        "    [0,0,0,0,255,255,0,0,0],\n",
        "    [0,0,0,0,255,255,0,0,0],\n",
        "    [0,0,0,0,255,255,0,0,0],\n",
        "    [0,0,0,0,255,255,0,0,0],\n",
        "    [0,0,0,0,0,0,0,0,0]\n",
        "\n",
        "\n",
        "],dtype='float32')"
      ],
      "metadata": {
        "id": "k1yHoEpV0UHi"
      },
      "execution_count": 177,
      "outputs": []
    },
    {
      "cell_type": "code",
      "source": [
        "\n",
        "\n",
        "\n",
        "\n",
        "image.shape"
      ],
      "metadata": {
        "colab": {
          "base_uri": "https://localhost:8080/"
        },
        "id": "YIPWuKn47nlC",
        "outputId": "7d29f04a-9cbe-423e-f4f0-3a32e6abc15f"
      },
      "execution_count": 178,
      "outputs": [
        {
          "output_type": "execute_result",
          "data": {
            "text/plain": [
              "(9, 9)"
            ]
          },
          "metadata": {},
          "execution_count": 178
        }
      ]
    },
    {
      "cell_type": "code",
      "source": [
        "## Define a kernel/filter"
      ],
      "metadata": {
        "id": "z4G5hgZX35M-"
      },
      "execution_count": 179,
      "outputs": []
    },
    {
      "cell_type": "code",
      "source": [
        "horizontal_kernel = np.array([[-1,-1,-1],[0,0,0],[1,1,1]])"
      ],
      "metadata": {
        "id": "SnUq8vNt4bc5"
      },
      "execution_count": 180,
      "outputs": []
    },
    {
      "cell_type": "code",
      "source": [
        "## now do the convolution"
      ],
      "metadata": {
        "id": "MXnn2_yX4l4p"
      },
      "execution_count": 181,
      "outputs": []
    },
    {
      "cell_type": "code",
      "source": [
        "corr_result = correlate2d(image,horizontal_kernel,mode='valid')"
      ],
      "metadata": {
        "id": "87_cjhTB4s1I"
      },
      "execution_count": 182,
      "outputs": []
    },
    {
      "cell_type": "code",
      "source": [
        "print(corr_result)"
      ],
      "metadata": {
        "colab": {
          "base_uri": "https://localhost:8080/"
        },
        "id": "xouoXqdW4xXn",
        "outputId": "9fa150e2-99a2-4c06-d19b-cb52a4592ad9"
      },
      "execution_count": 183,
      "outputs": [
        {
          "output_type": "stream",
          "name": "stdout",
          "text": [
            "[[-255. -510. -510. -255. -255. -255. -255.]\n",
            " [   0.    0.    0.    0.    0.    0.    0.]\n",
            " [   0.    0.    0.    0.    0.    0.    0.]\n",
            " [   0.    0.    0.    0.    0.    0.    0.]\n",
            " [   0.    0.    0.    0.    0.    0.    0.]\n",
            " [   0.    0.    0.    0.    0.    0.    0.]\n",
            " [   0.    0. -255. -510. -510. -255.    0.]]\n"
          ]
        }
      ]
    },
    {
      "cell_type": "code",
      "source": [
        "type(corr_result)"
      ],
      "metadata": {
        "colab": {
          "base_uri": "https://localhost:8080/"
        },
        "id": "B1KRGO8S6qNi",
        "outputId": "0a53f8f0-b387-4278-913c-018871bce4a0"
      },
      "execution_count": 184,
      "outputs": [
        {
          "output_type": "execute_result",
          "data": {
            "text/plain": [
              "numpy.ndarray"
            ]
          },
          "metadata": {},
          "execution_count": 184
        }
      ]
    },
    {
      "cell_type": "code",
      "source": [
        "corr_result.shape"
      ],
      "metadata": {
        "colab": {
          "base_uri": "https://localhost:8080/"
        },
        "id": "qGTccHW-6tut",
        "outputId": "b210fd12-beaf-4399-8316-df8a67eff9cc"
      },
      "execution_count": 185,
      "outputs": [
        {
          "output_type": "execute_result",
          "data": {
            "text/plain": [
              "(7, 7)"
            ]
          },
          "metadata": {},
          "execution_count": 185
        }
      ]
    },
    {
      "cell_type": "code",
      "source": [
        "## Visualize the result"
      ],
      "metadata": {
        "id": "6r-JrG5V42UK"
      },
      "execution_count": 186,
      "outputs": []
    },
    {
      "cell_type": "code",
      "source": [
        "fig, axs = plt.subplots(1,2,figsize=(8,4) )\n",
        "axs[0].imshow(image,cmap='gray')\n",
        "axs[0].set_title('Original Image of 7')\n",
        "axs[1].set_title('Correlation Result')\n",
        "axs[1].imshow(corr_result,cmap='gray')\n",
        "axs[1].set_title(\"Correlation Result\")\n",
        "plt.show()"
      ],
      "metadata": {
        "colab": {
          "base_uri": "https://localhost:8080/",
          "height": 364
        },
        "id": "00ebL-4f46vv",
        "outputId": "73c12a1f-6baf-415e-f36c-94d25b01edc2"
      },
      "execution_count": 187,
      "outputs": [
        {
          "output_type": "display_data",
          "data": {
            "text/plain": [
              "<Figure size 800x400 with 2 Axes>"
            ],
            "image/png": "[encoded data removed]"
          },
          "metadata": {}
        }
      ]
    },
    {
      "cell_type": "code",
      "source": [],
      "metadata": {
        "id": "Qz3dC6_D5zm9"
      },
      "execution_count": 187,
      "outputs": []
    }
  ]
}